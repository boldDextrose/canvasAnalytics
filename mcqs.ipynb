{
  "metadata": {
    "kernelspec": {
      "name": "python",
      "display_name": "Python (Pyodide)",
      "language": "python"
    },
    "language_info": {
      "codemirror_mode": {
        "name": "python",
        "version": 3
      },
      "file_extension": ".py",
      "mimetype": "text/x-python",
      "name": "python",
      "nbconvert_exporter": "python",
      "pygments_lexer": "ipython3",
      "version": "3.8"
    }
  },
  "nbformat_minor": 4,
  "nbformat": 4,
  "cells": [
    {
      "cell_type": "code",
      "source": "import requests\nimport pandas as pd\n\n\nimport numpy as np\n\n\n# Replace with your personal token and the URL of the API endpoint\ntoken = \"19803~su7AubB5fbNfJLzoZ6V9k7PViWUAcgaoiin9RdjXyIAkAOjYqvE6GW10g3uGWrLo\"\n# Set up the headers with your token\nheaders = {\n    'Authorization': f'Bearer {token}',\n}\n\ncourseID=24301\nquizzess=['Online Quiz']\n\n\n\n\n\n\n\n\n\n\n\n\n\n\n\n\n\n\n",
      "metadata": {
        "trusted": true
      },
      "outputs": [],
      "execution_count": 1
    },
    {
      "cell_type": "code",
      "source": "",
      "metadata": {
        "trusted": true
      },
      "outputs": [],
      "execution_count": null
    }
  ]
}